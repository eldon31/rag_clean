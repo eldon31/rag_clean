{
 "cells": [
  {
   "cell_type": "code",
   "execution_count": null,
   "id": "88eeb23d",
   "metadata": {},
   "outputs": [
    {
     "name": "stdout",
     "output_type": "stream",
     "text": [
      "Requirement already satisfied: protobuf<4.0.0,>=3.20.0 in /usr/local/lib/python3.11/dist-packages (3.20.3)\n",
      "Requirement already satisfied: sentence-transformers>=3.0.0 in /usr/local/lib/python3.11/dist-packages (4.1.0)\n",
      "Collecting sentence-transformers>=3.0.0\n",
      "  Downloading sentence_transformers-5.1.1-py3-none-any.whl.metadata (16 kB)\n",
      "Requirement already satisfied: transformers in /usr/local/lib/python3.11/dist-packages (4.53.3)\n",
      "Collecting transformers\n",
      "  Downloading transformers-4.57.1-py3-none-any.whl.metadata (43 kB)\n",
      "\u001b[2K     \u001b[90m━━━━━━━━━━━━━━━━━━━━━━━━━━━━━━━━━━━━━━━━\u001b[0m \u001b[32m44.0/44.0 kB\u001b[0m \u001b[31m1.8 MB/s\u001b[0m eta \u001b[36m0:00:00\u001b[0m\n",
      "\u001b[?25hRequirement already satisfied: scikit-learn in /usr/local/lib/python3.11/dist-packages (1.2.2)\n",
      "Collecting scikit-learn\n",
      "  Downloading scikit_learn-1.7.2-cp311-cp311-manylinux2014_x86_64.manylinux_2_17_x86_64.whl.metadata (11 kB)\n",
      "Collecting faiss-gpu-cu11\n",
      "  Downloading faiss_gpu_cu11-1.12.0-cp311-cp311-manylinux_2_17_x86_64.manylinux2014_x86_64.whl.metadata (12 kB)\n",
      "Collecting onnxruntime-gpu\n",
      "  Downloading onnxruntime_gpu-1.23.0-cp311-cp311-manylinux_2_27_x86_64.manylinux_2_28_x86_64.whl.metadata (5.2 kB)\n",
      "Requirement already satisfied: accelerate in /usr/local/lib/python3.11/dist-packages (1.9.0)\n",
      "Collecting accelerate\n",
      "  Downloading accelerate-1.11.0-py3-none-any.whl.metadata (19 kB)\n",
      "Requirement already satisfied: datasets in /usr/local/lib/python3.11/dist-packages (4.1.1)\n",
      "Collecting datasets\n",
      "  Downloading datasets-4.2.0-py3-none-any.whl.metadata (18 kB)\n",
      "Requirement already satisfied: psutil in /usr/local/lib/python3.11/dist-packages (7.1.0)\n",
      "Collecting psutil\n",
      "  Downloading psutil-7.1.1-cp36-abi3-manylinux_2_12_x86_64.manylinux2010_x86_64.manylinux_2_17_x86_64.manylinux2014_x86_64.whl.metadata (23 kB)\n",
      "Requirement already satisfied: requests in /usr/local/lib/python3.11/dist-packages (2.32.5)\n",
      "Requirement already satisfied: tqdm in /usr/local/lib/python3.11/dist-packages (4.67.1)\n",
      "Collecting flash-attn\n",
      "  Downloading flash_attn-2.8.3.tar.gz (8.4 MB)\n",
      "\u001b[2K     \u001b[90m━━━━━━━━━━━━━━━━━━━━━━━━━━━━━━━━━━━━━━━━\u001b[0m \u001b[32m8.4/8.4 MB\u001b[0m \u001b[31m59.5 MB/s\u001b[0m eta \u001b[36m0:00:00\u001b[0m00:01\u001b[0m00:01\u001b[0m\n",
      "\u001b[?25h"
     ]
    }
   ],
   "source": [
    "!pip install --upgrade \"protobuf>=3.20.0,<4.0.0\" \"sentence-transformers>=3.0.0\" transformers scikit-learn faiss-gpu-cu11 onnxruntime-gpu optimum[onnxruntime-gpu] accelerate datasets psutil requests tqdm flash-attn --no-build-isolation"
   ]
  },
  {
   "cell_type": "code",
   "execution_count": null,
   "id": "ef179d63",
   "metadata": {},
   "outputs": [],
   "source": [
    "import torch\n",
    "\n",
    "print(\"CUDA Configuration:\")\n",
    "print(f\"✓ CUDA available: {torch.cuda.is_available()}\")\n",
    "print(f\"✓ CUDA device count: {torch.cuda.device_count()}\")\n",
    "\n",
    "for i in range(torch.cuda.device_count()):\n",
    "    print(f\"  - GPU {i}: {torch.cuda.get_device_name(i)} - {torch.cuda.get_device_properties(i).total_memory // 1024**3}GB\")\n",
    "\n",
    "# Verify FAISS GPU\n",
    "try:\n",
    "    import faiss\n",
    "    print(f\"\\n✓ FAISS version: {faiss.__version__}\")\n",
    "    print(f\"✓ FAISS GPU support: Available\")\n",
    "except ImportError:\n",
    "    print(\"✗ FAISS not available\")"
   ]
  },
  {
   "cell_type": "code",
   "execution_count": null,
   "id": "f8678360",
   "metadata": {},
   "outputs": [],
   "source": [
    "!hf download Qdrant/all_miniLM_L6_v2_with_attentions; hf download Qdrant/all-MiniLM-L6-v2-onnx; hf download Qdrant/bm25; hf download BAAI/bge-m3; hf download jinaai/jina-code-embeddings-1.5b; hf download jinaai/jina-embeddings-v4; hf download jinaai/jina-reranker-v3; hf download Qwen/Qwen3-Embedding-0.6B"
   ]
  },
  {
   "cell_type": "code",
   "execution_count": null,
   "id": "200bb4ac",
   "metadata": {},
   "outputs": [],
   "source": [
    "!hf download Qdrant/all_miniLM_L6_v2_with_attentions; hf download Qdrant/all-MiniLM-L6-v2-onnx; hf download Qdrant/bm25; hf download BAAI/bge-m3; hf download jinaai/jina-code-embeddings-1.5b; hf download jinaai/jina-embeddings-v4; hf download jinaai/jina-reranker-v3; hf download Qwen/Qwen3-Embedding-0.6B"
   ]
  }
 ],
 "metadata": {
  "kernelspec": {
   "display_name": "Python 3 (ipykernel)",
   "language": "python",
   "name": "python3"
  },
  "language_info": {
   "codemirror_mode": {
    "name": "ipython",
    "version": 3
   },
   "file_extension": ".py",
   "mimetype": "text/x-python",
   "name": "python",
   "nbconvert_exporter": "python",
   "pygments_lexer": "ipython3",
   "version": "3.11.13"
  }
 },
 "nbformat": 4,
 "nbformat_minor": 5
}
